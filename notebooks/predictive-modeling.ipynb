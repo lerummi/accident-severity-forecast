{
 "cells": [
  {
   "cell_type": "markdown",
   "id": "70fd1545-a607-4b61-8c55-2ab1e8ff0a39",
   "metadata": {},
   "source": [
    "# Predictive model: Business Use Case\n",
    "\n",
    "## Goal\n",
    "\n",
    "- Using the available [Road Safety Data](https://www.data.gov.uk/dataset/cb7ae6f0-4be6-4935-9277-47e5ce24a11f/road-safety-data) create a predictive modeling business use case\n",
    "- Desired use case: **On-premise forecast of *dangarous* traffic situations**\n",
    "- Train model capable to predict accident severity \"score\": Overall accident severity"
   ]
  },
  {
   "cell_type": "markdown",
   "id": "137a6922-dd84-43bf-adbb-6bbfb2c70fe9",
   "metadata": {},
   "source": [
    "## Considerations\n",
    "\n",
    "- Take all available information into account including spatiotemporal, environmental, vehicle\n",
    "- Important when defining features: \n",
    "    - Only features available *before* accident can be used\n",
    "    - Do not utilize features not to be used in practice, e.g. \n",
    "        - due to GDPR (driver properties)\n",
    "        - busincess-strategic (car model name)"
   ]
  },
  {
   "cell_type": "code",
   "execution_count": null,
   "id": "be74df03-e6b0-42fb-be23-8498c53004de",
   "metadata": {
    "tags": []
   },
   "outputs": [],
   "source": [
    "import os\n",
    "import pandas\n",
    "import mlflow\n",
    "import numpy as np\n",
    "from pathlib import Path\n",
    "\n",
    "from helpers.utils import (\n",
    "    load_yaml,\n",
    "    infer_catboost_feature_types\n",
    ")\n",
    "\n",
    "from sklearn import set_config\n",
    "from sklearn.metrics import mean_absolute_error, mean_squared_error, confusion_matrix\n",
    "from sklearn.model_selection import ShuffleSplit\n",
    "\n",
    "from catboost import CatBoostRegressor, Pool\n",
    "\n",
    "set_config(transform_output=\"pandas\")\n",
    "assets_dir = Path(os.environ[\"DATA_DIR\"]) / \"assets\""
   ]
  },
  {
   "cell_type": "code",
   "execution_count": null,
   "id": "cc678e08-83d8-47aa-83f5-deb5ee5465af",
   "metadata": {
    "tags": []
   },
   "outputs": [],
   "source": [
    "X = pandas.read_pickle(assets_dir / \"accidents_vehicles_casualties_dataset_result.pkl\")\n",
    "X = X.query(\"`accident.year` == 2021\")\n",
    "y = X.pop(\"target\")"
   ]
  },
  {
   "cell_type": "markdown",
   "id": "6a2c43e0-392a-4529-b45f-3197597c8549",
   "metadata": {},
   "source": [
    "## Training and logging\n",
    "\n",
    "- Define model parameters\n",
    "- Apply training rounds and log params and metrics to tracking server\n",
    "- Log trained model as model artifact"
   ]
  },
  {
   "cell_type": "code",
   "execution_count": null,
   "id": "fa6b985b-460c-4e25-85c8-d95e004a3103",
   "metadata": {},
   "outputs": [],
   "source": [
    "feat = infer_catboost_feature_types(X)\n",
    "\n",
    "catboost_init_params = {\n",
    "    \"cat_features\": feat[\"categorical\"], \n",
    "    \"text_features\": feat[\"text\"], \n",
    "    \"od_type\": \"Iter\", \n",
    "    \"iterations\": 400,\n",
    "    \"train_dir\": \"/tmp/catboost\"\n",
    "}\n",
    "\n",
    "catboost_fit_params = {\n",
    "    \"early_stopping_rounds\": 101,\n",
    "    \"verbose\": 100\n",
    "}\n",
    "\n",
    "model = CatBoostRegressor(**catboost_init_params)"
   ]
  },
  {
   "cell_type": "code",
   "execution_count": null,
   "id": "43a9fca4-7856-4cdd-8113-e2e96281eac8",
   "metadata": {},
   "outputs": [],
   "source": [
    "mlflow.set_registry_uri(os.environ[\"MLFLOW_TRACKING_URI\"])\n",
    "mlflow.set_experiment(\"casualty-regression\")"
   ]
  },
  {
   "cell_type": "code",
   "execution_count": null,
   "id": "cacddb3e-618c-4f8e-9a80-1576dbd1cf72",
   "metadata": {
    "tags": []
   },
   "outputs": [],
   "source": [
    "with mlflow.start_run() as run:\n",
    "    \n",
    "    run_id = run.info.run_id\n",
    "    \n",
    "    mlflow.log_params(catboost_init_params)\n",
    "    mlflow.log_params(catboost_fit_params)\n",
    "    mlflow.log_param(\"n_accidents\", len(X))\n",
    "\n",
    "    splitter = ShuffleSplit(n_splits=1, test_size=0.2, random_state=42)\n",
    "    \n",
    "    for train, test in splitter.split(X):\n",
    "        Xtrain = X.iloc[train]\n",
    "        ytrain = y.iloc[train]\n",
    "\n",
    "        data_test = Pool(\n",
    "            X.iloc[test], \n",
    "            y.iloc[test], \n",
    "            text_features=feat[\"text\"],\n",
    "            cat_features=feat[\"categorical\"]\n",
    "        )\n",
    "\n",
    "        train, val = next(\n",
    "            ShuffleSplit(n_splits=1, test_size=0.05, random_state=42)\n",
    "            .split(Xtrain)\n",
    "        )\n",
    "\n",
    "        data_val = Pool(\n",
    "            X.iloc[val], \n",
    "            y.iloc[val], \n",
    "            text_features=feat[\"text\"],\n",
    "            cat_features=feat[\"categorical\"]\n",
    "        )\n",
    "\n",
    "        data_train = Pool(\n",
    "            X.iloc[train], \n",
    "            y.iloc[train], \n",
    "            text_features=feat[\"text\"],\n",
    "            cat_features=feat[\"categorical\"]\n",
    "        )\n",
    "\n",
    "        model.fit(data_train, eval_set=data_val, **catboost_fit_params)\n",
    "\n",
    "        ypred = model.predict(data_test)\n",
    "        \n",
    "        mae = mean_absolute_error(data_test.get_label(), ypred)\n",
    "        mse = mean_squared_error(data_test.get_label(), ypred)\n",
    "        \n",
    "        mlflow.log_metrics(\n",
    "            {\n",
    "                \"mae\": mae,\n",
    "                \"mse\": mse\n",
    "            }\n",
    "        )\n",
    "\n",
    "        # Confusion matrix\n",
    "        confusion = pandas.DataFrame(\n",
    "            confusion_matrix(\n",
    "                data_test.get_label(), \n",
    "                np.round(ypred, 0).astype(int)\n",
    "            )\n",
    "        )\n",
    "        confusion.to_csv(\"/tmp/confusion.csv\")\n",
    "        mlflow.log_artifact(\"/tmp/confusion.csv\")"
   ]
  },
  {
   "cell_type": "code",
   "execution_count": null,
   "id": "78be68c7-9eab-4f58-8adb-ad4dffe745db",
   "metadata": {},
   "outputs": [],
   "source": [
    "with mlflow.start_run(run_id=run_id):\n",
    "    # Log model artifact\n",
    "    model.fit(X, y, **catboost_fit_params)\n",
    "    mlflow.catboost.log_model(model, artifact_path=\"model\")"
   ]
  },
  {
   "cell_type": "code",
   "execution_count": null,
   "id": "7cf6038b-b9a2-4d03-afd0-07813e46a7e1",
   "metadata": {},
   "outputs": [],
   "source": []
  }
 ],
 "metadata": {
  "kernelspec": {
   "display_name": "Python 3 (ipykernel)",
   "language": "python",
   "name": "python3"
  },
  "language_info": {
   "codemirror_mode": {
    "name": "ipython",
    "version": 3
   },
   "file_extension": ".py",
   "mimetype": "text/x-python",
   "name": "python",
   "nbconvert_exporter": "python",
   "pygments_lexer": "ipython3",
   "version": "3.11.4"
  }
 },
 "nbformat": 4,
 "nbformat_minor": 5
}
