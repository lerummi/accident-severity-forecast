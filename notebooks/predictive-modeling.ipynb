{
 "cells": [
  {
   "cell_type": "markdown",
   "id": "70fd1545-a607-4b61-8c55-2ab1e8ff0a39",
   "metadata": {},
   "source": [
    "# Predictive model: Business Use Case\n",
    "\n",
    "## Goal\n",
    "\n",
    "- Using the available [Road Safety Data](https://www.data.gov.uk/dataset/cb7ae6f0-4be6-4935-9277-47e5ce24a11f/road-safety-data) create a predictive modeling business use case\n",
    "- Desired use case: **On-premise forecast of *dangarous* traffic situations**\n",
    "- Train model capable to predict accident severity \"score\": Overall accident severity"
   ]
  },
  {
   "cell_type": "markdown",
   "id": "137a6922-dd84-43bf-adbb-6bbfb2c70fe9",
   "metadata": {},
   "source": [
    "## Considerations\n",
    "\n",
    "- Take all available information into account including spatiotemporal, environmental, vehicle\n",
    "- Important when defining features: \n",
    "    - Only features available *before* accident can be used\n",
    "    - Do not utilize features not to be used in practice, e.g. \n",
    "        - due to GDPR (driver properties)\n",
    "        - busincess-strategic (car model name)"
   ]
  },
  {
   "cell_type": "code",
   "execution_count": null,
   "id": "be74df03-e6b0-42fb-be23-8498c53004de",
   "metadata": {
    "editable": true,
    "slideshow": {
     "slide_type": ""
    },
    "tags": []
   },
   "outputs": [],
   "source": [
    "import os\n",
    "import pandas\n",
    "import mlflow\n",
    "import numpy as np\n",
    "import seaborn as sns\n",
    "import matplotlib.pyplot as plt\n",
    "\n",
    "from workflows.helpers.utils import (\n",
    "    infer_catboost_feature_types,\n",
    "    read_partitioned_pandas_asset\n",
    ")\n",
    "\n",
    "from sklearn import set_config\n",
    "from sklearn.metrics import mean_absolute_error, mean_squared_error, confusion_matrix\n",
    "from sklearn.model_selection import ShuffleSplit\n",
    "\n",
    "from catboost import CatBoostRegressor, Pool\n",
    "\n",
    "set_config(transform_output=\"pandas\")"
   ]
  },
  {
   "cell_type": "markdown",
   "id": "101d93e4-bcb1-4f57-9b6c-04d61181a14d",
   "metadata": {},
   "source": [
    "## Load dataset\n",
    "\n",
    "When running this notebook manually, we need to utilize the `read_partitioned_pandas_asset` method here.\n",
    "\n",
    "When using workflow-orchestration, instead variable `X` is automatically overwritten by the respective source asset, namely `accidents_vehicles_casualties_dataset`.\n",
    "Check out this [tutorial](https://docs.dagster.io/integrations/dagstermill/using-notebooks-with-dagster)."
   ]
  },
  {
   "cell_type": "code",
   "execution_count": null,
   "id": "cc678e08-83d8-47aa-83f5-deb5ee5465af",
   "metadata": {
    "editable": true,
    "slideshow": {
     "slide_type": ""
    },
    "tags": [
     "parameters"
    ]
   },
   "outputs": [],
   "source": [
    "X = read_partitioned_pandas_asset(\"accidents_vehicles_casualties_dataset\")"
   ]
  },
  {
   "cell_type": "markdown",
   "id": "c69e52e7-e639-49b1-9414-e1896d6bd4d9",
   "metadata": {},
   "source": [
    "Extract target to train on"
   ]
  },
  {
   "cell_type": "code",
   "execution_count": null,
   "id": "9af03e95-5680-401f-9b9a-b1c6a19090ee",
   "metadata": {
    "editable": true,
    "slideshow": {
     "slide_type": ""
    },
    "tags": []
   },
   "outputs": [],
   "source": [
    "y = X.pop(\"target\")"
   ]
  },
  {
   "cell_type": "markdown",
   "id": "77c0e542-1baf-4b32-9d58-4de196eba6ab",
   "metadata": {},
   "source": [
    "## Properties Visualization"
   ]
  },
  {
   "cell_type": "code",
   "execution_count": null,
   "id": "32aea976-96b4-4bf2-b9d1-cdf9440f894a",
   "metadata": {},
   "outputs": [],
   "source": [
    "date = pandas.to_datetime(\n",
    "    X[[\"accident.year\", \"accident.month\", \"accident.day\"]]\n",
    "    .rename(\n",
    "        columns={\n",
    "            \"accident.year\": \"year\",\n",
    "            \"accident.month\": \"month\",\n",
    "            \"accident.day\": \"day\"\n",
    "        }\n",
    "    )\n",
    ")\n",
    "date.name = \"date\"\n",
    "date = date.to_frame()\n",
    "date[\"count\"] = 1\n",
    "\n",
    "# Accident counts\n",
    "f_count, ax = plt.subplots(figsize=(10, 3))\n",
    "ax.set_title(\"Accident count by dates\")\n",
    "sns.histplot(date, x=\"date\", ax=ax)\n",
    "\n",
    "# Severity score counts\n",
    "f_score, ax = plt.subplots(figsize=(10, 3))\n",
    "ax.set_title(\"Severity score counts\")\n",
    "sns.histplot(y, bins=range(0, int(max(y))), ax=ax)"
   ]
  },
  {
   "cell_type": "markdown",
   "id": "6a2c43e0-392a-4529-b45f-3197597c8549",
   "metadata": {},
   "source": [
    "## Training and logging\n",
    "\n",
    "- Define model parameters\n",
    "- Apply training rounds and log params and metrics to tracking server\n",
    "- Log trained model as model artifact"
   ]
  },
  {
   "cell_type": "code",
   "execution_count": null,
   "id": "fa6b985b-460c-4e25-85c8-d95e004a3103",
   "metadata": {
    "editable": true,
    "slideshow": {
     "slide_type": ""
    },
    "tags": []
   },
   "outputs": [],
   "source": [
    "feat = infer_catboost_feature_types(X)\n",
    "\n",
    "catboost_init_params = {\n",
    "    \"cat_features\": feat[\"categorical\"], \n",
    "    \"text_features\": feat[\"text\"], \n",
    "    \"od_type\": \"Iter\", \n",
    "    \"iterations\": 400,\n",
    "    \"train_dir\": \"/tmp/catboost\"\n",
    "}\n",
    "\n",
    "catboost_fit_params = {\n",
    "    \"early_stopping_rounds\": 101,\n",
    "    \"verbose\": 100\n",
    "}\n",
    "\n",
    "model = CatBoostRegressor(**catboost_init_params)"
   ]
  },
  {
   "cell_type": "code",
   "execution_count": null,
   "id": "43a9fca4-7856-4cdd-8113-e2e96281eac8",
   "metadata": {},
   "outputs": [],
   "source": [
    "mlflow.set_registry_uri(os.environ[\"MLFLOW_TRACKING_URI\"])\n",
    "mlflow.set_experiment(\"casualty-regression\")"
   ]
  },
  {
   "cell_type": "code",
   "execution_count": null,
   "id": "cacddb3e-618c-4f8e-9a80-1576dbd1cf72",
   "metadata": {
    "scrolled": true,
    "tags": []
   },
   "outputs": [],
   "source": [
    "with mlflow.start_run() as run:\n",
    "    \n",
    "    run_id = run.info.run_id\n",
    "\n",
    "    mlflow.log_figure(f_count, \"count_by_date.png\")\n",
    "    mlflow.log_figure(f_score, \"score_count.png\")\n",
    "    mlflow.log_params(catboost_init_params)\n",
    "    mlflow.log_params(catboost_fit_params)\n",
    "    mlflow.log_param(\"n_accidents\", len(X))\n",
    "    mlflow.log_param(\"min_date\", date[\"date\"].min())\n",
    "    mlflow.log_param(\"max_date\", date[\"date\"].max())\n",
    "\n",
    "    splitter = ShuffleSplit(n_splits=1, test_size=0.2, random_state=42)\n",
    "    \n",
    "    for train, test in splitter.split(X):\n",
    "        Xtrain = X.iloc[train]\n",
    "        ytrain = y.iloc[train]\n",
    "\n",
    "        data_test = Pool(\n",
    "            X.iloc[test], \n",
    "            y.iloc[test], \n",
    "            text_features=feat[\"text\"],\n",
    "            cat_features=feat[\"categorical\"]\n",
    "        )\n",
    "\n",
    "        train, val = next(\n",
    "            ShuffleSplit(n_splits=1, test_size=0.05, random_state=42)\n",
    "            .split(Xtrain)\n",
    "        )\n",
    "\n",
    "        data_val = Pool(\n",
    "            X.iloc[val], \n",
    "            y.iloc[val], \n",
    "            text_features=feat[\"text\"],\n",
    "            cat_features=feat[\"categorical\"]\n",
    "        )\n",
    "\n",
    "        data_train = Pool(\n",
    "            X.iloc[train], \n",
    "            y.iloc[train], \n",
    "            text_features=feat[\"text\"],\n",
    "            cat_features=feat[\"categorical\"]\n",
    "        )\n",
    "\n",
    "        model.fit(data_train, eval_set=data_val, **catboost_fit_params)\n",
    "\n",
    "        ypred = model.predict(data_test)\n",
    "        \n",
    "        mae = mean_absolute_error(data_test.get_label(), ypred)\n",
    "        mse = mean_squared_error(data_test.get_label(), ypred)\n",
    "        \n",
    "        mlflow.log_metrics(\n",
    "            {\n",
    "                \"mae\": mae,\n",
    "                \"mse\": mse\n",
    "            }\n",
    "        )\n",
    "\n",
    "        # Confusion matrix\n",
    "        confusion = pandas.DataFrame(\n",
    "            confusion_matrix(\n",
    "                data_test.get_label(), \n",
    "                np.round(ypred, 0).astype(int)\n",
    "            )\n",
    "        )\n",
    "        confusion.to_csv(\"/tmp/confusion.csv\")\n",
    "        mlflow.log_artifact(\"/tmp/confusion.csv\")"
   ]
  },
  {
   "cell_type": "markdown",
   "id": "7c03ed2f-6ef6-4228-996b-c8090c70edb6",
   "metadata": {},
   "source": [
    "Log model and register new version to registry"
   ]
  },
  {
   "cell_type": "code",
   "execution_count": null,
   "id": "78be68c7-9eab-4f58-8adb-ad4dffe745db",
   "metadata": {},
   "outputs": [],
   "source": [
    "example_input = X.sample(n=100)\n",
    "\n",
    "with mlflow.start_run(run_id=run_id):\n",
    "    # Fit on complete data and log model artifact\n",
    "    model.fit(X, y, **catboost_fit_params)\n",
    "    mlflow.catboost.log_model(\n",
    "        model, \n",
    "        artifact_path=\"model\",\n",
    "        input_example=example_input\n",
    "    )"
   ]
  },
  {
   "cell_type": "code",
   "execution_count": null,
   "id": "ed39b3a9-7db9-4b66-8f55-fcb85fdedd93",
   "metadata": {},
   "outputs": [],
   "source": [
    "mlflow.register_model(\n",
    "    model_uri=f\"runs:/{run_id}/model\",\n",
    "    name=\"accident-severity\"\n",
    ")"
   ]
  }
 ],
 "metadata": {
  "kernelspec": {
   "display_name": "Python 3 (ipykernel)",
   "language": "python",
   "name": "python3"
  },
  "language_info": {
   "codemirror_mode": {
    "name": "ipython",
    "version": 3
   },
   "file_extension": ".py",
   "mimetype": "text/x-python",
   "name": "python",
   "nbconvert_exporter": "python",
   "pygments_lexer": "ipython3",
   "version": "3.11.4"
  }
 },
 "nbformat": 4,
 "nbformat_minor": 5
}
